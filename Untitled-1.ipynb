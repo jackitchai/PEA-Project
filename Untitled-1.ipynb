{
 "cells": [
  {
   "cell_type": "code",
   "execution_count": 4,
   "metadata": {},
   "outputs": [
    {
     "ename": "TypeError",
     "evalue": "expected str, bytes or os.PathLike object, not HTTPResponse",
     "output_type": "error",
     "traceback": [
      "\u001b[1;31m---------------------------------------------------------------------------\u001b[0m",
      "\u001b[1;31mTypeError\u001b[0m                                 Traceback (most recent call last)",
      "\u001b[1;32mUntitled-1.ipynb Cell 1'\u001b[0m in \u001b[0;36m<cell line: 8>\u001b[1;34m()\u001b[0m\n\u001b[0;32m      <a href='vscode-notebook-cell:Untitled-1.ipynb?jupyter-notebook#ch0000000untitled?line=5'>6</a>\u001b[0m open_url \u001b[39m=\u001b[39m urllib\u001b[39m.\u001b[39mrequest\u001b[39m.\u001b[39murlopen(base_url)\n\u001b[0;32m      <a href='vscode-notebook-cell:Untitled-1.ipynb?jupyter-notebook#ch0000000untitled?line=6'>7</a>\u001b[0m file_url \u001b[39m=\u001b[39m pd\u001b[39m.\u001b[39mread_json(open_url)\n\u001b[1;32m----> <a href='vscode-notebook-cell:Untitled-1.ipynb?jupyter-notebook#ch0000000untitled?line=7'>8</a>\u001b[0m \u001b[39mwith\u001b[39;00m \u001b[39mopen\u001b[39;49m(open_url,encoding \u001b[39m=\u001b[39;49m \u001b[39m'\u001b[39;49m\u001b[39mutf8\u001b[39;49m\u001b[39m'\u001b[39;49m) \u001b[39mas\u001b[39;00m f :\n\u001b[0;32m      <a href='vscode-notebook-cell:Untitled-1.ipynb?jupyter-notebook#ch0000000untitled?line=8'>9</a>\u001b[0m     s \u001b[39m=\u001b[39m f\u001b[39m.\u001b[39mread()\n\u001b[0;32m     <a href='vscode-notebook-cell:Untitled-1.ipynb?jupyter-notebook#ch0000000untitled?line=9'>10</a>\u001b[0m \u001b[39mprint\u001b[39m(s)\n",
      "\u001b[1;31mTypeError\u001b[0m: expected str, bytes or os.PathLike object, not HTTPResponse"
     ]
    }
   ],
   "source": [
    "import urllib.request\n",
    "import json \n",
    "user_number = 482383\n",
    "url = \"http://mba.pea.co.th/index.php?emp=%d\"\n",
    "base_url = url%(user_number)\n",
    "open_url = urllib.request.urlopen(base_url)\n",
    "file_url = pd.read_json(open_url)\n",
    "with open(open_url,encoding = 'utf8') as f :\n",
    "    s = f.read()\n",
    "print(s)\n"
   ]
  },
  {
   "cell_type": "code",
   "execution_count": 14,
   "metadata": {},
   "outputs": [
    {
     "name": "stdout",
     "output_type": "stream",
     "text": [
      "emp_id : 511881\n"
     ]
    }
   ],
   "source": [
    "import urllib.request\n",
    "import json \n",
    "user_number = 511881\n",
    "url = \"http://mba.pea.co.th/index.php?emp=%s\"\n",
    "base_url = url%(user_number)\n",
    "open_url = urllib.request.urlopen(base_url)\n",
    "json_data = json.loads(open_url.read())\n",
    "list = json_data[\"data\"][\"dataDetail\"]\n",
    "for i in range(len(list)) :\n",
    "    emp_id = list[i].get(\"emp_id\")"
   ]
  },
  {
   "cell_type": "code",
   "execution_count": 8,
   "metadata": {},
   "outputs": [
    {
     "name": "stdout",
     "output_type": "stream",
     "text": [
      "(1, '511881', 'นายดรัณภพ ดอกไม้กุล', '511881', 'กฟจ.เชียงใหม่ และ กฟฟ.ในสังกัด', 1, 'NNX', 'Z00000', 'นักระบบงานคอมพิวเตอร์4', 'แผนกบริหารงานสารสนเทศ/กองวิศวกรรม ภาค 1/ฝ่ายอำนวยการภูมิภาค ภาค 1', 'การไฟฟ้าส่วนภูมิภาค สนญ.', '-', 'ผบท.', 'แผนกบริหารงานสารสนเทศ')\n"
     ]
    }
   ],
   "source": [
    "import mysql.connector\n",
    "mydb = mysql.connector.connect(\n",
    "    host = \"localhost\",\n",
    "    user = \"root\",\n",
    "    password = \"\",\n",
    "    database = \"user_test\"\n",
    ")\n",
    "mycursor = mydb.cursor()\n",
    "user_ID = emp_id\n",
    "sql = \"SELECT * FROM user WHERE userPea =%s\"\n",
    "val = [(user_ID)]\n",
    "m_execute = mycursor.execute(sql,val)\n",
    "myresult = mycursor.fetchall()\n",
    "for x in myresult :\n",
    "    print(x)"
   ]
  }
 ],
 "metadata": {
  "interpreter": {
   "hash": "26de051ba29f2982a8de78e945f0abaf191376122a1563185a90213a26c5da77"
  },
  "kernelspec": {
   "display_name": "Python 3.10.4 64-bit",
   "language": "python",
   "name": "python3"
  },
  "language_info": {
   "codemirror_mode": {
    "name": "ipython",
    "version": 3
   },
   "file_extension": ".py",
   "mimetype": "text/x-python",
   "name": "python",
   "nbconvert_exporter": "python",
   "pygments_lexer": "ipython3",
   "version": "3.10.4"
  },
  "orig_nbformat": 4
 },
 "nbformat": 4,
 "nbformat_minor": 2
}
